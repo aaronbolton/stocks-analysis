{
 "cells": [
  {
   "cell_type": "markdown",
   "metadata": {},
   "source": [
    "# Stock Analysis and AI-Powered Recommendation Tool\n",
    "\n",
    "This notebook provides a comprehensive tool for analyzing stock performance and generating AI-powered insights. It performs the following functions:\n",
    "\n",
    "1. Fetches historical stock data using Yahoo Finance API\n",
    "2. Calculates key performance metrics (price, change, moving averages)\n",
    "3. Uses Ollama (local LLM) to generate market analysis and recommendations\n",
    "4. Saves the complete analysis to a text file for future reference\n",
    "\n",
    "Default configuration is set for UKOG.L stock, but can be easily modified for any ticker."
   ]
  },
  {
   "cell_type": "markdown",
   "metadata": {},
   "source": [
    "## Setup and Dependencies\n",
    "\n",
    "First, let's install the required packages:"
   ]
  },
  {
   "cell_type": "code",
   "execution_count": 25,
   "metadata": {},
   "outputs": [],
   "source": [
    "# Install required packages\n",
    "!pip install ollama yfinance pandas -q"
   ]
  },
  {
   "cell_type": "code",
   "execution_count": 26,
   "metadata": {},
   "outputs": [],
   "source": [
    "# Import required libraries\n",
    "import ollama                      # For AI-powered analysis\n",
    "import yfinance as yf              # For fetching stock data\n",
    "import pandas as pd                # For data manipulation\n",
    "from typing import Optional, Dict, Any  # For type hints\n",
    "from datetime import datetime, timedelta  # For date handling\n",
    "import os                          # For file operations"
   ]
  },
  {
   "cell_type": "markdown",
   "metadata": {},
   "source": [
    "## Global Configuration\n",
    "\n",
    "These settings control the behavior of the analysis tool. You can modify these values to analyze different stocks or adjust the display format."
   ]
  },
  {
   "cell_type": "code",
   "execution_count": 27,
   "metadata": {},
   "outputs": [],
   "source": [
    "# Global configurations\n",
    "OLLAMA_HOST = 'http://ollama:11434'  # Connection URL for Ollama API\n",
    "TICKER = \"VUSA.L\"                    # Default stock ticker symbol\n",
    "CURRENCY = \"£\"                       # Currency symbol for display formatting"
   ]
  },
  {
   "cell_type": "markdown",
   "metadata": {},
   "source": [
    "## Data Collection and Analysis Functions\n",
    "\n",
    "The following functions handle fetching stock data and calculating key metrics."
   ]
  },
  {
   "cell_type": "code",
   "execution_count": 28,
   "metadata": {},
   "outputs": [],
   "source": [
    "def get_stock_analysis(ticker: str = TICKER) -> Dict[str, Any]:\n",
    "    \"\"\"\n",
    "    Retrieve and analyze stock data for the specified ticker.\n",
    "    \n",
    "    This function fetches one year of historical data and calculates key metrics\n",
    "    including current price, day change percentage, 50-day moving average,\n",
    "    and determines the current trend direction.\n",
    "    \n",
    "    Args:\n",
    "        ticker (str): Stock ticker symbol (default: value from TICKER global variable)\n",
    "        \n",
    "    Returns:\n",
    "        Dict[str, Any]: Dictionary containing calculated metrics and stock information\n",
    "        None: If an error occurs during data retrieval or processing\n",
    "    \"\"\"\n",
    "    try:\n",
    "        # Get stock info\n",
    "        stock = yf.Ticker(ticker)\n",
    "        \n",
    "        # Get historical data for the past year\n",
    "        end_date = datetime.now()\n",
    "        start_date = end_date - timedelta(days=365)\n",
    "        hist = stock.history(start=start_date, end=end_date)\n",
    "        \n",
    "        # Calculate key metrics\n",
    "        current_price = hist['Close'][-1]  # Most recent closing price\n",
    "        prev_close = hist['Close'][-2]     # Previous day's closing price\n",
    "        day_change = ((current_price - prev_close) / prev_close) * 100  # Percentage change\n",
    "        \n",
    "        # Calculate 50-day moving average (technical indicator)\n",
    "        ma50 = hist['Close'].rolling(window=50).mean().iloc[-1]\n",
    "        \n",
    "        # Determine trend direction based on price vs moving average\n",
    "        short_term_trend = \"UPWARD\" if current_price > ma50 else \"DOWNWARD\"\n",
    "        \n",
    "        # Return comprehensive data dictionary\n",
    "        return {\n",
    "            \"ticker\": ticker,\n",
    "            \"current_price\": round(current_price, 2),\n",
    "            \"previous_close\": round(prev_close, 2),\n",
    "            \"day_change\": round(day_change, 2),\n",
    "            \"ma50\": round(ma50, 2),\n",
    "            \"trend\": short_term_trend,\n",
    "            \"volume\": int(hist['Volume'][-1]),\n",
    "            \"last_updated\": datetime.now().strftime(\"%Y-%m-%d %H:%M:%S\")\n",
    "        }\n",
    "    \n",
    "    except Exception as e:\n",
    "        print(f\"Error retrieving stock data: {str(e)}\")\n",
    "        return None"
   ]
  },
  {
   "cell_type": "code",
   "execution_count": 29,
   "metadata": {},
   "outputs": [],
   "source": [
    "def get_stock_info(ticker: str = TICKER) -> str:\n",
    "    \"\"\"\n",
    "    Get stock name and description for better prompts.\n",
    "    \n",
    "    This function retrieves the company's full name to create more\n",
    "    informative prompts for the AI model.\n",
    "    \n",
    "    Args:\n",
    "        ticker (str): Stock ticker symbol\n",
    "        \n",
    "    Returns:\n",
    "        str: Company name and ticker in format \"Company Name (TICKER)\"\n",
    "             or just the ticker if retrieval fails\n",
    "    \"\"\"\n",
    "    try:\n",
    "        stock = yf.Ticker(ticker)\n",
    "        info = stock.info\n",
    "        return f\"{info.get('longName', ticker)} ({ticker})\"\n",
    "    except:\n",
    "        return ticker"
   ]
  },
  {
   "cell_type": "markdown",
   "metadata": {},
   "source": [
    "## AI Analysis Functions\n",
    "\n",
    "These functions handle the interaction with the Ollama LLM to generate insights."
   ]
  },
  {
   "cell_type": "code",
   "execution_count": 30,
   "metadata": {},
   "outputs": [],
   "source": [
    "def generate_response(prompt: str, model: str = \"llama3.1:8b-instruct-q8_0\") -> Optional[str]:\n",
    "    \"\"\"\n",
    "    Generate a response using the Ollama model.\n",
    "    \n",
    "    This function sends a prompt to the specified Ollama model and returns\n",
    "    the generated text response.\n",
    "    \n",
    "    Args:\n",
    "        prompt (str): The text prompt to send to the model\n",
    "        model (str): The Ollama model identifier to use (default: llama3.1:8b-instruct-q8_0)\n",
    "        \n",
    "    Returns:\n",
    "        Optional[str]: The generated text response or None if an error occurs\n",
    "    \"\"\"\n",
    "    try:\n",
    "        # Initialize Ollama client with the configured host\n",
    "        client = ollama.Client(host=OLLAMA_HOST)\n",
    "        \n",
    "        # Generate response from the model\n",
    "        response = client.generate(model=model, prompt=prompt)\n",
    "        \n",
    "        return response['response']\n",
    "    except Exception as e:\n",
    "        print(f\"Error occurred: {str(e)}\")\n",
    "        return None"
   ]
  },
  {
   "cell_type": "markdown",
   "metadata": {},
   "source": [
    "## Output and File Handling"
   ]
  },
  {
   "cell_type": "code",
   "execution_count": 31,
   "metadata": {},
   "outputs": [],
   "source": [
    "def save_to_file(data: Dict[str, Any], analysis: str, recommendation: str) -> str:\n",
    "    \"\"\"\n",
    "    Save the analysis to a formatted text file.\n",
    "    \n",
    "    This function creates a well-structured report file containing all the\n",
    "    stock data, AI-generated analysis, and investment recommendation.\n",
    "    \n",
    "    Args:\n",
    "        data (Dict[str, Any]): Stock data dictionary from get_stock_analysis\n",
    "        analysis (str): AI-generated market analysis text\n",
    "        recommendation (str): AI-generated investment recommendation\n",
    "        \n",
    "    Returns:\n",
    "        str: Path to the saved file\n",
    "    \"\"\"\n",
    "    # Create timestamp and filename with format: TICKER_analysis_YYYYMMDD_HHMMSS.txt\n",
    "    timestamp = datetime.now().strftime(\"%Y%m%d_%H%M%S\")\n",
    "    filename = f\"outputs/{data['ticker']}_analysis_{timestamp}.txt\"\n",
    "    \n",
    "    # Create outputs directory if it doesn't exist\n",
    "    os.makedirs('outputs', exist_ok=True)\n",
    "    \n",
    "    # Write formatted report to file\n",
    "    with open(filename, 'w', encoding='utf-8') as f:\n",
    "        # Header section\n",
    "        f.write(f\"{data['ticker']} Analysis Report\\n\")\n",
    "        f.write(f\"Generated: {data['last_updated']}\\n\")\n",
    "        f.write(\"=\" * 50 + \"\\n\\n\")\n",
    "        \n",
    "        # Market data section\n",
    "        f.write(\"Market Data:\\n\")\n",
    "        f.write(f\"Current Price: {CURRENCY}{data['current_price']}\\n\")\n",
    "        f.write(f\"Previous Close: {CURRENCY}{data['previous_close']}\\n\")\n",
    "        f.write(f\"Day Change: {data['day_change']}%\\n\")\n",
    "        f.write(f\"50-day MA: {CURRENCY}{data['ma50']}\\n\")\n",
    "        f.write(f\"Current Trend: {data['trend']}\\n\")\n",
    "        f.write(f\"Volume: {data['volume']:,}\\n\")\n",
    "        f.write(\"=\" * 50 + \"\\n\\n\")\n",
    "        \n",
    "        # Analysis section\n",
    "        f.write(\"Analysis:\\n\")\n",
    "        f.write(f\"{analysis}\\n\")\n",
    "        f.write(\"=\" * 50 + \"\\n\\n\")\n",
    "        \n",
    "        # Recommendation section\n",
    "        f.write(\"Purchase Recommendation:\\n\")\n",
    "        f.write(f\"{recommendation}\\n\")\n",
    "        f.write(\"=\" * 50 + \"\\n\")\n",
    "    \n",
    "    return filename"
   ]
  },
  {
   "cell_type": "markdown",
   "metadata": {},
   "source": [
    "## Main Execution Function\n",
    "\n",
    "This function orchestrates the entire analysis process."
   ]
  },
  {
   "cell_type": "code",
   "execution_count": 32,
   "metadata": {},
   "outputs": [],
   "source": [
    "def main(ticker: str = TICKER):\n",
    "    \"\"\"\n",
    "    Main function that orchestrates the stock analysis workflow.\n",
    "    \n",
    "    This function coordinates the entire process:\n",
    "    1. Fetches stock data\n",
    "    2. Generates AI prompts based on the data\n",
    "    3. Retrieves AI-generated analysis and recommendations\n",
    "    4. Displays results and saves to file\n",
    "    \n",
    "    Args:\n",
    "        ticker (str): Stock ticker symbol to analyze (default: global TICKER value)\n",
    "    \"\"\"\n",
    "    print(f\"Analyzing {ticker}...\")\n",
    "    \n",
    "    # Get stock data and company name\n",
    "    stock_data = get_stock_analysis(ticker)\n",
    "    stock_name = get_stock_info(ticker)\n",
    "    \n",
    "    if stock_data:\n",
    "        # Generate analysis prompt with key metrics\n",
    "        analysis_prompt = f\"\"\"\n",
    "        Analyze this {stock_name} data:\n",
    "        - Current Price: {CURRENCY}{stock_data['current_price']}\n",
    "        - Day Change: {stock_data['day_change']}%\n",
    "        - 50-day Moving Average: {CURRENCY}{stock_data['ma50']}\n",
    "        - Trend: {stock_data['trend']}\n",
    "        \n",
    "        Provide a brief market analysis focusing on current performance.\n",
    "        \"\"\"\n",
    "        \n",
    "        # Generate recommendation prompt\n",
    "        recommendation_prompt = f\"\"\"\n",
    "        Based on this {stock_name} data:\n",
    "        - Current Price: {CURRENCY}{stock_data['current_price']}\n",
    "        - 50-day MA: {CURRENCY}{stock_data['ma50']}\n",
    "        - Trend: {stock_data['trend']}\n",
    "        \n",
    "        Provide a clear BUY, HOLD, or WAIT recommendation with a brief explanation.\n",
    "        Consider if today is a good day to purchase additional shares.\n",
    "        \"\"\"\n",
    "        \n",
    "        # Get AI-generated responses\n",
    "        analysis = generate_response(analysis_prompt)\n",
    "        recommendation = generate_response(recommendation_prompt)\n",
    "        \n",
    "        if analysis and recommendation:\n",
    "            # Print results to notebook output\n",
    "            print(f\"\\nCurrent Market Data for {stock_name}:\")\n",
    "            print(f\"Price: {CURRENCY}{stock_data['current_price']}\")\n",
    "            print(f\"Day Change: {stock_data['day_change']}%\")\n",
    "            print(f\"Trend: {stock_data['trend']}\")\n",
    "            print(\"\\nAnalysis:\")\n",
    "            print(analysis)\n",
    "            print(\"\\nRecommendation:\")\n",
    "            print(recommendation)\n",
    "            \n",
    "            # Save complete report to file\n",
    "            saved_file = save_to_file(stock_data, analysis, recommendation)\n",
    "            print(f\"\\nFull report saved to: {saved_file}\")"
   ]
  },
  {
   "cell_type": "markdown",
   "metadata": {},
   "source": [
    "## Run the Analysis\n",
    "\n",
    "Execute the main function to perform the stock analysis. You can modify the ticker symbol to analyze different stocks."
   ]
  },
  {
   "cell_type": "code",
   "execution_count": 33,
   "metadata": {},
   "outputs": [
    {
     "name": "stdout",
     "output_type": "stream",
     "text": [
      "Analyzing VUSA.L...\n"
     ]
    },
    {
     "name": "stderr",
     "output_type": "stream",
     "text": [
      "/tmp/ipykernel_23520/1658910072.py:26: FutureWarning: Series.__getitem__ treating keys as positions is deprecated. In a future version, integer keys will always be treated as labels (consistent with DataFrame behavior). To access a value by position, use `ser.iloc[pos]`\n",
      "  current_price = hist['Close'][-1]  # Most recent closing price\n",
      "/tmp/ipykernel_23520/1658910072.py:27: FutureWarning: Series.__getitem__ treating keys as positions is deprecated. In a future version, integer keys will always be treated as labels (consistent with DataFrame behavior). To access a value by position, use `ser.iloc[pos]`\n",
      "  prev_close = hist['Close'][-2]     # Previous day's closing price\n",
      "/tmp/ipykernel_23520/1658910072.py:44: FutureWarning: Series.__getitem__ treating keys as positions is deprecated. In a future version, integer keys will always be treated as labels (consistent with DataFrame behavior). To access a value by position, use `ser.iloc[pos]`\n",
      "  \"volume\": int(hist['Volume'][-1]),\n"
     ]
    },
    {
     "name": "stdout",
     "output_type": "stream",
     "text": [
      "\n",
      "Current Market Data for Vanguard S&P 500 UCITS ETF (VUSA.L):\n",
      "Price: £83.68\n",
      "Day Change: -1.99%\n",
      "Trend: DOWNWARD\n",
      "\n",
      "Analysis:\n",
      "**Market Analysis: Vanguard S&P 500 UCITS ETF (VUSA.L)**\n",
      "\n",
      "The Vanguard S&P 500 UCITS ETF (VUSA.L) has experienced a significant decline in its share price over the past day, with a drop of -1.99%. This downward trend is also reflected in its moving average, as the 50-day MA (£90.89) currently sits above the current price (£83.68), indicating a sell-off.\n",
      "\n",
      "**Key Observations:**\n",
      "\n",
      "1. **Downward Trend**: The overall trend for VUSA.L is DOWNWARD, which suggests that investors are becoming increasingly bearish on the market.\n",
      "2. **Price Gap**: The current price has dropped below the 50-day MA, creating a price gap of approximately £7.21 (£90.89 - £83.68). This gap indicates a potential area of support for buyers to take advantage of.\n",
      "3. **Volatility**: The day change of -1.99% suggests that the market is experiencing increased volatility, which may be attributed to various global economic and market factors.\n",
      "\n",
      "**Conclusion:**\n",
      "\n",
      "The Vanguard S&P 500 UCITS ETF (VUSA.L) has demonstrated a downward trend in recent trading sessions, with a significant drop in its share price over the past day. The moving average gap between the current price and the 50-day MA (£90.89) indicates potential support levels for buyers to take advantage of.\n",
      "\n",
      "**Investment Recommendation:**\n",
      "\n",
      "For investors who are looking to buy into VUSA.L, the current price may present a buying opportunity. However, it is essential to consider other market factors, such as overall economic conditions and sector performance, before making any investment decisions.\n",
      "\n",
      "**Disclaimer:**\n",
      "\n",
      "This analysis is for informational purposes only and should not be considered as investment advice. Investors should always conduct their own research and consult with financial experts before making investment decisions.\n",
      "\n",
      "Recommendation:\n",
      "Based on the provided data:\n",
      "\n",
      "* Current Price: £83.68 (below 50-day MA of £90.89)\n",
      "* Trend: DOWNWARD\n",
      "\n",
      "I would recommend **WAIT** for now.\n",
      "\n",
      "The downward trend and current price being below the 50-day moving average suggest that the market is currently in a bearish phase. Buying additional shares at this point may not be the best decision, as it's uncertain whether the stock will continue its downtrend or stabilize soon.\n",
      "\n",
      "However, if you're looking to add to your position, consider waiting for a pullback towards the 50-day MA or another significant support level before adding more funds. This can help minimize potential losses and potentially increase returns in the long run.\n",
      "\n",
      "**Disclaimer:** This is a general recommendation based on the provided data and should not be considered as investment advice tailored to individual circumstances. Always consult with a financial advisor before making any investment decisions.\n",
      "\n",
      "Full report saved to: outputs/VUSA.L_analysis_20250307_195349.txt\n"
     ]
    }
   ],
   "source": [
    "if __name__ == \"__main__\":\n",
    "    # You can easily change the ticker here or pass it as an argument\n",
    "    # Example usage:\n",
    "    # main(\"AAPL\")    # for Apple\n",
    "    # main(\"GOOGL\")   # for Google\n",
    "    # main(\"VUSA.L\")  # for Vanguard S&P 500 UCITS ETF\n",
    "    main(TICKER)"
   ]
  }
 ],
 "metadata": {
  "kernelspec": {
   "display_name": "Python 3 (ipykernel)",
   "language": "python",
   "name": "python3"
  },
  "language_info": {
   "codemirror_mode": {
    "name": "ipython",
    "version": 3
   },
   "file_extension": ".py",
   "mimetype": "text/x-python",
   "name": "python",
   "nbconvert_exporter": "python",
   "pygments_lexer": "ipython3",
   "version": "3.12.9"
  }
 },
 "nbformat": 4,
 "nbformat_minor": 4
}
